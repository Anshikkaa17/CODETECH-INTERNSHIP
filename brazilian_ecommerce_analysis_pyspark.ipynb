{
  "nbformat": 4,
  "nbformat_minor": 0,
  "metadata": {
    "colab": {
      "provenance": [],
      "authorship_tag": "ABX9TyP/fPF7RD5ihtj7wOLX0LA3",
      "include_colab_link": true
    },
    "kernelspec": {
      "name": "python3",
      "display_name": "Python 3"
    },
    "language_info": {
      "name": "python"
    }
  },
  "cells": [
    {
      "cell_type": "markdown",
      "metadata": {
        "id": "view-in-github",
        "colab_type": "text"
      },
      "source": [
        "<a href=\"https://colab.research.google.com/github/Anshikkaa17/CODETECH-INTERNSHIP/blob/main/brazilian_ecommerce_analysis_pyspark.ipynb\" target=\"_parent\"><img src=\"https://colab.research.google.com/assets/colab-badge.svg\" alt=\"Open In Colab\"/></a>"
      ]
    },
    {
      "cell_type": "code",
      "source": [
        "!pip install pyspark\n"
      ],
      "metadata": {
        "colab": {
          "base_uri": "https://localhost:8080/"
        },
        "id": "cb6SJmp3qbcv",
        "outputId": "63925b41-85c1-4b1f-86ba-7eee9a33f9c6"
      },
      "execution_count": null,
      "outputs": [
        {
          "output_type": "stream",
          "name": "stdout",
          "text": [
            "Requirement already satisfied: pyspark in /usr/local/lib/python3.11/dist-packages (3.5.1)\n",
            "Requirement already satisfied: py4j==0.10.9.7 in /usr/local/lib/python3.11/dist-packages (from pyspark) (0.10.9.7)\n"
          ]
        }
      ]
    },
    {
      "cell_type": "code",
      "source": [
        "from pyspark.sql import SparkSession\n",
        "from pyspark.sql.functions import col, count, desc\n"
      ],
      "metadata": {
        "id": "2XcO2JJnp9CM"
      },
      "execution_count": null,
      "outputs": []
    },
    {
      "cell_type": "code",
      "source": [
        "spark = SparkSession.builder \\\n",
        "    .appName(\"Olist E-Commerce Analysis\") \\\n",
        "    .getOrCreate()\n"
      ],
      "metadata": {
        "id": "JU9zwWrKr_Db"
      },
      "execution_count": null,
      "outputs": []
    },
    {
      "cell_type": "code",
      "source": [
        "orders = spark.read.csv(\"/content/olist_orders_dataset.csv\", header=True, inferSchema=True)\n",
        "customers = spark.read.csv(\"/content/olist_customers_dataset.csv\", header=True, inferSchema=True)\n",
        "items = spark.read.csv(\"/content/olist_order_items_dataset.csv\", header=True, inferSchema=True)\n",
        "payments = spark.read.csv(\"/content/olist_order_payments_dataset.csv\", header=True, inferSchema=True)\n",
        "reviews = spark.read.csv(\"/content/olist_order_reviews_dataset.csv\", header=True, inferSchema=True)\n",
        "products = spark.read.csv(\"/content/olist_products_dataset.csv\", header=True, inferSchema=True)\n",
        "sellers = spark.read.csv(\"/content/olist_sellers_dataset.csv\", header=True, inferSchema=True)\n"
      ],
      "metadata": {
        "id": "j3fo9nAHsJ_K"
      },
      "execution_count": null,
      "outputs": []
    },
    {
      "cell_type": "code",
      "source": [
        "orders.printSchema()\n",
        "orders.show(5)\n"
      ],
      "metadata": {
        "colab": {
          "base_uri": "https://localhost:8080/"
        },
        "id": "p0vUr5_Hszz9",
        "outputId": "3ac2b23f-4f1c-4f1d-ccee-2f320afcafc8"
      },
      "execution_count": null,
      "outputs": [
        {
          "output_type": "stream",
          "name": "stdout",
          "text": [
            "root\n",
            " |-- order_id: string (nullable = true)\n",
            " |-- customer_id: string (nullable = true)\n",
            " |-- order_status: string (nullable = true)\n",
            " |-- order_purchase_timestamp: timestamp (nullable = true)\n",
            " |-- order_approved_at: timestamp (nullable = true)\n",
            " |-- order_delivered_carrier_date: timestamp (nullable = true)\n",
            " |-- order_delivered_customer_date: timestamp (nullable = true)\n",
            " |-- order_estimated_delivery_date: timestamp (nullable = true)\n",
            "\n",
            "+--------------------+--------------------+------------+------------------------+-------------------+----------------------------+-----------------------------+-----------------------------+\n",
            "|            order_id|         customer_id|order_status|order_purchase_timestamp|  order_approved_at|order_delivered_carrier_date|order_delivered_customer_date|order_estimated_delivery_date|\n",
            "+--------------------+--------------------+------------+------------------------+-------------------+----------------------------+-----------------------------+-----------------------------+\n",
            "|e481f51cbdc54678b...|9ef432eb625129730...|   delivered|     2017-10-02 10:56:33|2017-10-02 11:07:15|         2017-10-04 19:55:00|          2017-10-10 21:25:13|          2017-10-18 00:00:00|\n",
            "|53cdb2fc8bc7dce0b...|b0830fb4747a6c6d2...|   delivered|     2018-07-24 20:41:37|2018-07-26 03:24:27|         2018-07-26 14:31:00|          2018-08-07 15:27:45|          2018-08-13 00:00:00|\n",
            "|47770eb9100c2d0c4...|41ce2a54c0b03bf34...|   delivered|     2018-08-08 08:38:49|2018-08-08 08:55:23|         2018-08-08 13:50:00|          2018-08-17 18:06:29|          2018-09-04 00:00:00|\n",
            "|949d5b44dbf5de918...|f88197465ea7920ad...|   delivered|     2017-11-18 19:28:06|2017-11-18 19:45:59|         2017-11-22 13:39:59|          2017-12-02 00:28:42|          2017-12-15 00:00:00|\n",
            "|ad21c59c0840e6cb8...|8ab97904e6daea886...|   delivered|     2018-02-13 21:18:39|2018-02-13 22:20:29|         2018-02-14 19:46:34|          2018-02-16 18:17:02|          2018-02-26 00:00:00|\n",
            "+--------------------+--------------------+------------+------------------------+-------------------+----------------------------+-----------------------------+-----------------------------+\n",
            "only showing top 5 rows\n",
            "\n"
          ]
        }
      ]
    },
    {
      "cell_type": "markdown",
      "source": [],
      "metadata": {
        "id": "Cc_f88AOrL0p"
      }
    },
    {
      "cell_type": "code",
      "source": [
        "orders.groupBy(\"order_status\") \\\n",
        "      .count() \\\n",
        "      .orderBy(\"count\", ascending=False) \\\n",
        "      .show()\n"
      ],
      "metadata": {
        "colab": {
          "base_uri": "https://localhost:8080/"
        },
        "id": "_pBhJY6Yt7se",
        "outputId": "d78b070b-c914-4cab-a573-8dd4698d81df"
      },
      "execution_count": null,
      "outputs": [
        {
          "output_type": "stream",
          "name": "stdout",
          "text": [
            "+------------+-----+\n",
            "|order_status|count|\n",
            "+------------+-----+\n",
            "|   delivered|96478|\n",
            "|     shipped| 1107|\n",
            "|    canceled|  625|\n",
            "| unavailable|  609|\n",
            "|    invoiced|  314|\n",
            "|  processing|  301|\n",
            "|     created|    5|\n",
            "|    approved|    2|\n",
            "+------------+-----+\n",
            "\n"
          ]
        }
      ]
    },
    {
      "cell_type": "code",
      "source": [
        "from pyspark.sql.functions import to_date\n",
        "\n",
        "orders = orders.withColumn(\"order_purchase_date\", to_date(\"order_purchase_timestamp\"))\n",
        "\n",
        "orders.groupBy(\"order_purchase_date\") \\\n",
        "      .count() \\\n",
        "      .orderBy(\"order_purchase_date\") \\\n",
        "      .show(10)\n",
        "\n"
      ],
      "metadata": {
        "colab": {
          "base_uri": "https://localhost:8080/"
        },
        "id": "uDwcmyI5t93T",
        "outputId": "36f34215-2e66-4e8f-ba8c-c181b1a79853"
      },
      "execution_count": null,
      "outputs": [
        {
          "output_type": "stream",
          "name": "stdout",
          "text": [
            "+-------------------+-----+\n",
            "|order_purchase_date|count|\n",
            "+-------------------+-----+\n",
            "|         2016-09-04|    1|\n",
            "|         2016-09-05|    1|\n",
            "|         2016-09-13|    1|\n",
            "|         2016-09-15|    1|\n",
            "|         2016-10-02|    1|\n",
            "|         2016-10-03|    8|\n",
            "|         2016-10-04|   63|\n",
            "|         2016-10-05|   47|\n",
            "|         2016-10-06|   51|\n",
            "|         2016-10-07|   46|\n",
            "+-------------------+-----+\n",
            "only showing top 10 rows\n",
            "\n"
          ]
        }
      ]
    },
    {
      "cell_type": "code",
      "source": [
        "orders_payments = orders.join(payments, on=\"order_id\", how=\"inner\")\n",
        "\n",
        "orders_payments.groupBy(\"payment_type\") \\\n",
        "               .agg(count(\"order_id\").alias(\"order_count\")) \\\n",
        "               .orderBy(desc(\"order_count\")) \\\n",
        "               .show()\n"
      ],
      "metadata": {
        "colab": {
          "base_uri": "https://localhost:8080/"
        },
        "id": "oXRe8d6ruDeu",
        "outputId": "04e89606-ea8d-4f28-b979-bd92fc064ca6"
      },
      "execution_count": null,
      "outputs": [
        {
          "output_type": "stream",
          "name": "stdout",
          "text": [
            "+------------+-----------+\n",
            "|payment_type|order_count|\n",
            "+------------+-----------+\n",
            "| credit_card|      76795|\n",
            "|      boleto|      19784|\n",
            "|     voucher|       5775|\n",
            "|  debit_card|       1529|\n",
            "| not_defined|          3|\n",
            "+------------+-----------+\n",
            "\n"
          ]
        }
      ]
    },
    {
      "cell_type": "code",
      "source": [
        "from pyspark.sql.functions import sum\n",
        "\n",
        "orders_payments.groupBy(\"payment_type\") \\\n",
        "               .agg(sum(\"payment_value\").alias(\"total_sales\")) \\\n",
        "               .orderBy(desc(\"total_sales\")) \\\n",
        "               .show()\n"
      ],
      "metadata": {
        "colab": {
          "base_uri": "https://localhost:8080/"
        },
        "id": "IUPRpVksuG3B",
        "outputId": "119a2693-0710-4b57-90e2-704d9f1d1705"
      },
      "execution_count": null,
      "outputs": [
        {
          "output_type": "stream",
          "name": "stdout",
          "text": [
            "+------------+--------------------+\n",
            "|payment_type|         total_sales|\n",
            "+------------+--------------------+\n",
            "| credit_card|1.2542084189999508E7|\n",
            "|      boleto|  2869361.2699999996|\n",
            "|     voucher|  379436.87000000046|\n",
            "|  debit_card|  217989.79000000018|\n",
            "| not_defined|                 0.0|\n",
            "+------------+--------------------+\n",
            "\n"
          ]
        }
      ]
    },
    {
      "cell_type": "code",
      "source": [
        "from pyspark.sql.functions import datediff, to_date\n",
        "\n",
        "items = items.withColumn(\"shipping_limit_date\", to_date(\"shipping_limit_date\"))\n",
        "orders = orders.withColumn(\"delivered_date\", to_date(\"order_delivered_customer_date\"))\n",
        "\n",
        "orders_items = orders.join(items, on=\"order_id\", how=\"inner\")\n",
        "\n",
        "orders_items = orders_items.withColumn(\"delivery_days\",\n",
        "                                       datediff(\"delivered_date\", \"order_purchase_date\"))\n",
        "\n",
        "orders_items.select(\"order_id\", \"delivery_days\") \\\n",
        "            .filter(\"delivery_days IS NOT NULL\") \\\n",
        "            .show(10)\n"
      ],
      "metadata": {
        "colab": {
          "base_uri": "https://localhost:8080/"
        },
        "id": "tZ4PFMbYuKPq",
        "outputId": "ce4c8237-5f07-4d8b-8bb7-2b86eb3cfe42"
      },
      "execution_count": null,
      "outputs": [
        {
          "output_type": "stream",
          "name": "stdout",
          "text": [
            "+--------------------+-------------+\n",
            "|            order_id|delivery_days|\n",
            "+--------------------+-------------+\n",
            "|e481f51cbdc54678b...|            8|\n",
            "|53cdb2fc8bc7dce0b...|           14|\n",
            "|47770eb9100c2d0c4...|            9|\n",
            "|949d5b44dbf5de918...|           14|\n",
            "|ad21c59c0840e6cb8...|            3|\n",
            "|a4591c265e18cb1dc...|           17|\n",
            "|6514b8ad8028c9f2c...|           10|\n",
            "|76c6e866289321a7c...|           10|\n",
            "|e69bfb5eb88e0ed6a...|           18|\n",
            "|e6ce16cb79ec1d90b...|           13|\n",
            "+--------------------+-------------+\n",
            "only showing top 10 rows\n",
            "\n"
          ]
        }
      ]
    },
    {
      "cell_type": "code",
      "source": [
        "orders_items_products = orders_items.join(products, on=\"product_id\", how=\"inner\")\n",
        "\n",
        "orders_items_products.groupBy(\"product_category_name\") \\\n",
        "                     .agg({\"delivery_days\": \"avg\"}) \\\n",
        "                     .orderBy(\"avg(delivery_days)\") \\\n",
        "                     .show(10)\n"
      ],
      "metadata": {
        "colab": {
          "base_uri": "https://localhost:8080/"
        },
        "id": "zGN4vnT2uNkT",
        "outputId": "fb0dad00-5429-4b76-e32e-904181e7f6d4"
      },
      "execution_count": null,
      "outputs": [
        {
          "output_type": "stream",
          "name": "stdout",
          "text": [
            "+---------------------+------------------+\n",
            "|product_category_name|avg(delivery_days)|\n",
            "+---------------------+------------------+\n",
            "|   artes_e_artesanato| 5.666666666666667|\n",
            "|           la_cuisine| 7.642857142857143|\n",
            "| portateis_cozinha...| 7.928571428571429|\n",
            "|    livros_importados| 7.964912280701754|\n",
            "| fashion_roupa_inf...| 8.857142857142858|\n",
            "|    artigos_de_festas| 9.142857142857142|\n",
            "|            alimentos| 9.496993987975952|\n",
            "|             pc_gamer|               9.5|\n",
            "| construcao_ferram...|  9.67109634551495|\n",
            "| portateis_casa_fo...| 9.794520547945206|\n",
            "+---------------------+------------------+\n",
            "only showing top 10 rows\n",
            "\n"
          ]
        }
      ]
    },
    {
      "cell_type": "code",
      "source": [
        "\n",
        "items_products = items.join(products, on=\"product_id\", how=\"inner\")\n",
        "\n",
        "\n",
        "top_categories = items_products.groupBy(\"product_category_name\") \\\n",
        "                               .agg(count(\"order_id\").alias(\"items_sold\")) \\\n",
        "                               .orderBy(desc(\"items_sold\"))\n",
        "\n",
        "top_categories.show(10)\n"
      ],
      "metadata": {
        "colab": {
          "base_uri": "https://localhost:8080/"
        },
        "id": "ZocrEF8wuQnn",
        "outputId": "ab715812-fc88-4790-e67c-ec0f3640f9d7"
      },
      "execution_count": null,
      "outputs": [
        {
          "output_type": "stream",
          "name": "stdout",
          "text": [
            "+---------------------+----------+\n",
            "|product_category_name|items_sold|\n",
            "+---------------------+----------+\n",
            "|      cama_mesa_banho|     11115|\n",
            "|         beleza_saude|      9670|\n",
            "|        esporte_lazer|      8641|\n",
            "|     moveis_decoracao|      8334|\n",
            "| informatica_acess...|      7827|\n",
            "| utilidades_domest...|      6964|\n",
            "|   relogios_presentes|      5991|\n",
            "|            telefonia|      4545|\n",
            "|   ferramentas_jardim|      4347|\n",
            "|           automotivo|      4235|\n",
            "+---------------------+----------+\n",
            "only showing top 10 rows\n",
            "\n"
          ]
        }
      ]
    },
    {
      "cell_type": "code",
      "source": [
        "\n",
        "orders_customers = orders.join(customers, on=\"customer_id\", how=\"inner\")\n",
        "\n",
        "most_active = orders_customers.groupBy(\"customer_unique_id\") \\\n",
        "                              .agg(count(\"order_id\").alias(\"orders_count\")) \\\n",
        "                              .orderBy(desc(\"orders_count\"))\n",
        "\n",
        "most_active.show(10)\n"
      ],
      "metadata": {
        "colab": {
          "base_uri": "https://localhost:8080/"
        },
        "id": "XtfP5l8MugoN",
        "outputId": "b26a3ab7-b6f7-4cbc-f082-d4dcc9d8005c"
      },
      "execution_count": null,
      "outputs": [
        {
          "output_type": "stream",
          "name": "stdout",
          "text": [
            "+--------------------+------------+\n",
            "|  customer_unique_id|orders_count|\n",
            "+--------------------+------------+\n",
            "|8d50f5eadf50201cc...|          17|\n",
            "|3e43e6105506432c9...|           9|\n",
            "|6469f99c1f9dfae77...|           7|\n",
            "|1b6c7548a2a1f9037...|           7|\n",
            "|ca77025e7201e3b30...|           7|\n",
            "|12f5d6e1cbf93dafd...|           6|\n",
            "|63cfc61cee11cbe30...|           6|\n",
            "|dc813062e0fc23409...|           6|\n",
            "|de34b16117594161a...|           6|\n",
            "|47c1a3033b8b77b3a...|           6|\n",
            "+--------------------+------------+\n",
            "only showing top 10 rows\n",
            "\n"
          ]
        }
      ]
    },
    {
      "cell_type": "code",
      "source": [
        "# Group\n",
        "customers.groupBy(\"customer_state\") \\\n",
        "         .agg(count(\"customer_id\").alias(\"total_customers\")) \\\n",
        "         .orderBy(desc(\"total_customers\")) \\\n",
        "         .show(10)\n"
      ],
      "metadata": {
        "colab": {
          "base_uri": "https://localhost:8080/"
        },
        "id": "oKWd67SlulzO",
        "outputId": "809252ff-b78e-48f2-83c2-90c925764b1e"
      },
      "execution_count": null,
      "outputs": [
        {
          "output_type": "stream",
          "name": "stdout",
          "text": [
            "+--------------+---------------+\n",
            "|customer_state|total_customers|\n",
            "+--------------+---------------+\n",
            "|            SP|          41746|\n",
            "|            RJ|          12852|\n",
            "|            MG|          11635|\n",
            "|            RS|           5466|\n",
            "|            PR|           5045|\n",
            "|            SC|           3637|\n",
            "|            BA|           3380|\n",
            "|            DF|           2140|\n",
            "|            ES|           2033|\n",
            "|            GO|           2020|\n",
            "+--------------+---------------+\n",
            "only showing top 10 rows\n",
            "\n"
          ]
        }
      ]
    },
    {
      "cell_type": "code",
      "source": [
        "customers.groupBy(\"customer_city\") \\\n",
        "         .agg(count(\"customer_id\").alias(\"total_customers\")) \\\n",
        "         .orderBy(desc(\"total_customers\")) \\\n",
        "         .show(10)\n"
      ],
      "metadata": {
        "colab": {
          "base_uri": "https://localhost:8080/"
        },
        "id": "UAp6gRsxuq4G",
        "outputId": "03c3599e-d77b-4949-d0fa-e2f878df35ba"
      },
      "execution_count": null,
      "outputs": [
        {
          "output_type": "stream",
          "name": "stdout",
          "text": [
            "+--------------------+---------------+\n",
            "|       customer_city|total_customers|\n",
            "+--------------------+---------------+\n",
            "|           sao paulo|          15540|\n",
            "|      rio de janeiro|           6882|\n",
            "|      belo horizonte|           2773|\n",
            "|            brasilia|           2131|\n",
            "|            curitiba|           1521|\n",
            "|            campinas|           1444|\n",
            "|        porto alegre|           1379|\n",
            "|            salvador|           1245|\n",
            "|           guarulhos|           1189|\n",
            "|sao bernardo do c...|            938|\n",
            "+--------------------+---------------+\n",
            "only showing top 10 rows\n",
            "\n"
          ]
        }
      ]
    },
    {
      "cell_type": "code",
      "source": [
        "\n",
        "top_cat_pd = top_categories.limit(10).toPandas()\n",
        "import matplotlib.pyplot as plt\n",
        "import seaborn as sns\n",
        "\n",
        "plt.figure(figsize=(12,6))\n",
        "sns.barplot(data=top_cat_pd, x=\"items_sold\", y=\"product_category_name\", palette=\"viridis\")\n",
        "plt.title(\"Top 10 Product Categories by Items Sold\")\n",
        "plt.xlabel(\"Items Sold\")\n",
        "plt.ylabel(\"Category\")\n",
        "plt.tight_layout()\n",
        "plt.show()\n"
      ],
      "metadata": {
        "colab": {
          "base_uri": "https://localhost:8080/",
          "height": 623
        },
        "id": "dLPhVnmouvdQ",
        "outputId": "7657f227-39d1-40e0-96a3-d7a45e88102b"
      },
      "execution_count": null,
      "outputs": [
        {
          "output_type": "stream",
          "name": "stderr",
          "text": [
            "/tmp/ipython-input-2962213591.py:6: FutureWarning: \n",
            "\n",
            "Passing `palette` without assigning `hue` is deprecated and will be removed in v0.14.0. Assign the `y` variable to `hue` and set `legend=False` for the same effect.\n",
            "\n",
            "  sns.barplot(data=top_cat_pd, x=\"items_sold\", y=\"product_category_name\", palette=\"viridis\")\n"
          ]
        },
        {
          "output_type": "display_data",
          "data": {
            "text/plain": [
              "<Figure size 1200x600 with 1 Axes>"
            ],
            "image/png": "[encoded data removed]"
          },
          "metadata": {}
        }
      ]
    },
    {
      "cell_type": "code",
      "source": [],
      "metadata": {
        "id": "C7KLjBNXu0OD"
      },
      "execution_count": null,
      "outputs": []
    }
  ]
}